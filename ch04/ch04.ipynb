{
 "cells": [
  {
   "cell_type": "markdown",
   "metadata": {},
   "source": [
    "# 均方误差"
   ]
  },
  {
   "cell_type": "code",
   "execution_count": 73,
   "metadata": {},
   "outputs": [],
   "source": [
    "from IPython.display import Latex\n",
    "import numpy as np\n",
    "import matplotlib.pyplot as plt"
   ]
  },
  {
   "cell_type": "code",
   "execution_count": 74,
   "metadata": {},
   "outputs": [
    {
     "data": {
      "text/latex": [
       "$ E = \\frac{1}{2}\\sum_k{(y_k-t_k)^2}$"
      ],
      "text/plain": [
       "<IPython.core.display.Latex object>"
      ]
     },
     "execution_count": 74,
     "metadata": {},
     "output_type": "execute_result"
    }
   ],
   "source": [
    "Latex(r\"$ E = \\frac{1}{2}\\sum_k{(y_k-t_k)^2}$\")"
   ]
  },
  {
   "cell_type": "code",
   "execution_count": 75,
   "metadata": {},
   "outputs": [],
   "source": [
    "def mean_squared_error(y, t):\n",
    "    return 0.5 * np.sum((y-t)**2)"
   ]
  },
  {
   "cell_type": "code",
   "execution_count": 76,
   "metadata": {},
   "outputs": [
    {
     "data": {
      "text/plain": [
       "0.09750000000000003"
      ]
     },
     "execution_count": 76,
     "metadata": {},
     "output_type": "execute_result"
    }
   ],
   "source": [
    "t = [0, 0, 1, 0, 0, 0, 0 , 0 ,0 , 0]\n",
    "y = [0.1, 0.05, 0.6, 0.0, 0.05, 0.1, 0.0, 0.1, 0.0, 0.0]\n",
    "mean_squared_error(np.array(y), np.array(t))"
   ]
  },
  {
   "cell_type": "code",
   "execution_count": 77,
   "metadata": {},
   "outputs": [
    {
     "data": {
      "text/plain": [
       "0.5975"
      ]
     },
     "execution_count": 77,
     "metadata": {},
     "output_type": "execute_result"
    }
   ],
   "source": [
    "y = [0.1, 0.05, 0.1, 0.0, 0.05, 0.1, 0.0, 0.6, 0.0, 0.0]\n",
    "mean_squared_error(np.array(y), np.array(t))"
   ]
  },
  {
   "cell_type": "markdown",
   "metadata": {},
   "source": [
    "# 交叉熵误差\n",
    "特点是值趋近于1时绝对值很小，趋近于1时绝对值很大"
   ]
  },
  {
   "cell_type": "code",
   "execution_count": 78,
   "metadata": {},
   "outputs": [
    {
     "data": {
      "text/latex": [
       "$ E = -\\sum_{k}{t_klog_{y_k}}$"
      ],
      "text/plain": [
       "<IPython.core.display.Latex object>"
      ]
     },
     "execution_count": 78,
     "metadata": {},
     "output_type": "execute_result"
    }
   ],
   "source": [
    "Latex(r\"$ E = -\\sum_{k}{t_klog_{y_k}}$\")"
   ]
  },
  {
   "cell_type": "code",
   "execution_count": 79,
   "metadata": {},
   "outputs": [
    {
     "name": "stderr",
     "output_type": "stream",
     "text": [
      "/usr/local/lib/python3.7/site-packages/ipykernel_launcher.py:2: RuntimeWarning: divide by zero encountered in log\n",
      "  \n"
     ]
    },
    {
     "data": {
      "image/png": "[encoded data removed]",
      "text/plain": [
       "<Figure size 432x288 with 1 Axes>"
      ]
     },
     "metadata": {
      "needs_background": "light"
     },
     "output_type": "display_data"
    }
   ],
   "source": [
    "x = np.arange(0,1, 0.01)\n",
    "y = np.log(x)\n",
    "plt.plot(x,y)\n",
    "plt.show()"
   ]
  },
  {
   "cell_type": "code",
   "execution_count": 80,
   "metadata": {},
   "outputs": [],
   "source": [
    "def cross_entropy_error(y, t):\n",
    "    delta = 1e-7\n",
    "    return -np.sum(t*np.log(delta + y))"
   ]
  },
  {
   "cell_type": "code",
   "execution_count": 81,
   "metadata": {},
   "outputs": [
    {
     "data": {
      "text/plain": [
       "0.510825457099338"
      ]
     },
     "execution_count": 81,
     "metadata": {},
     "output_type": "execute_result"
    }
   ],
   "source": [
    "t = [0, 0, 1, 0, 0, 0, 0 , 0 ,0 , 0]\n",
    "y = [0.1, 0.05, 0.6, 0.0, 0.05, 0.1, 0.0, 0.1, 0.0, 0.0]\n",
    "cross_entropy_error(np.array(y), np.array(t))"
   ]
  },
  {
   "cell_type": "code",
   "execution_count": 82,
   "metadata": {},
   "outputs": [
    {
     "data": {
      "text/plain": [
       "2.302584092994546"
      ]
     },
     "execution_count": 82,
     "metadata": {},
     "output_type": "execute_result"
    }
   ],
   "source": [
    "y = [0.1, 0.05, 0.1, 0.0, 0.05, 0.1, 0.0, 0.6, 0.0, 0.0]\n",
    "cross_entropy_error(np.array(y), np.array(t))"
   ]
  },
  {
   "cell_type": "markdown",
   "metadata": {},
   "source": [
    "# mini-batch"
   ]
  },
  {
   "cell_type": "code",
   "execution_count": 83,
   "metadata": {},
   "outputs": [
    {
     "data": {
      "text/latex": [
       "$ E = -\\frac{1}{N} \\sum_{n}\\sum_{k}{t_nklog_{y_nk}}$"
      ],
      "text/plain": [
       "<IPython.core.display.Latex object>"
      ]
     },
     "execution_count": 83,
     "metadata": {},
     "output_type": "execute_result"
    }
   ],
   "source": [
    "Latex(r\"$ E = -\\frac{1}{N} \\sum_{n}\\sum_{k}{t_nklog_{y_nk}}$\")"
   ]
  },
  {
   "cell_type": "code",
   "execution_count": 84,
   "metadata": {},
   "outputs": [],
   "source": [
    "import sys,os\n",
    "sys.path.append(os.pardir)\n",
    "from dataset.mnist import load_mnist"
   ]
  },
  {
   "cell_type": "code",
   "execution_count": 85,
   "metadata": {},
   "outputs": [],
   "source": [
    "(x_train, t_train), (x_test, t_test) = load_mnist(normalize=True, one_hot_label = True)"
   ]
  },
  {
   "cell_type": "code",
   "execution_count": 86,
   "metadata": {},
   "outputs": [
    {
     "name": "stdout",
     "output_type": "stream",
     "text": [
      "(60000, 784)\n",
      "(60000, 10)\n"
     ]
    }
   ],
   "source": [
    "print(x_train.shape)\n",
    "print(t_train.shape)"
   ]
  },
  {
   "cell_type": "code",
   "execution_count": 87,
   "metadata": {},
   "outputs": [
    {
     "name": "stdout",
     "output_type": "stream",
     "text": [
      "60000\n",
      "[33087 21234 31080  7348 40953  7372 26588 34910 54660  6154]\n"
     ]
    }
   ],
   "source": [
    "train_size = x_train.shape[0]\n",
    "print(train_size)\n",
    "batch_size = 10\n",
    "batch_mask = np.random.choice(train_size, batch_size)\n",
    "print(batch_mask)"
   ]
  },
  {
   "cell_type": "code",
   "execution_count": 88,
   "metadata": {},
   "outputs": [
    {
     "data": {
      "text/plain": [
       "(10, 784)"
      ]
     },
     "execution_count": 88,
     "metadata": {},
     "output_type": "execute_result"
    }
   ],
   "source": [
    "x_batch = x_train[batch_mask]\n",
    "x_batch.shape"
   ]
  },
  {
   "cell_type": "code",
   "execution_count": 89,
   "metadata": {},
   "outputs": [
    {
     "data": {
      "text/plain": [
       "(10, 10)"
      ]
     },
     "execution_count": 89,
     "metadata": {},
     "output_type": "execute_result"
    }
   ],
   "source": [
    "t_batch = t_train[batch_mask]\n",
    "t_batch.shape"
   ]
  },
  {
   "cell_type": "code",
   "execution_count": 90,
   "metadata": {},
   "outputs": [],
   "source": [
    "def cross_entropy_error(y, t):\n",
    "    if y.ndim == 1:\n",
    "        t = t.reshape(1, t.size)\n",
    "        y = y.reshape(1, y.size)\n",
    "        \n",
    "    batch_size = y.shape[0]\n",
    "    delta = 1e-7\n",
    "    return -np.sum(t*np.log(delta + y)) / batch_size"
   ]
  },
  {
   "cell_type": "markdown",
   "metadata": {},
   "source": [
    "# 数值微分"
   ]
  },
  {
   "cell_type": "code",
   "execution_count": 91,
   "metadata": {},
   "outputs": [],
   "source": [
    "def numerical_diff(f, x):\n",
    "    h = 1e-4\n",
    "    return (f(x+h) - f(x-h))/(2*h)"
   ]
  },
  {
   "cell_type": "code",
   "execution_count": 92,
   "metadata": {},
   "outputs": [
    {
     "data": {
      "text/latex": [
       "$ y = 0.01x^2+0.1x$"
      ],
      "text/plain": [
       "<IPython.core.display.Latex object>"
      ]
     },
     "execution_count": 92,
     "metadata": {},
     "output_type": "execute_result"
    }
   ],
   "source": [
    "# y = 0.01 \n",
    "Latex(r\"$ y = 0.01x^2+0.1x$\")"
   ]
  },
  {
   "cell_type": "code",
   "execution_count": 93,
   "metadata": {},
   "outputs": [],
   "source": [
    "def function_1(x):\n",
    "    return 0.01*x**2+0.1*x"
   ]
  },
  {
   "cell_type": "code",
   "execution_count": 94,
   "metadata": {},
   "outputs": [
    {
     "data": {
      "image/png": "[encoded data removed]",
      "text/plain": [
       "<Figure size 432x288 with 1 Axes>"
      ]
     },
     "metadata": {
      "needs_background": "light"
     },
     "output_type": "display_data"
    }
   ],
   "source": [
    "\n",
    "x = np.arange(0.0, 20.0, 0.1)\n",
    "y = function_1(x)\n",
    "plt.xlabel(\"x\")\n",
    "plt.ylabel(\"f(x)\")\n",
    "plt.plot(x, y)\n",
    "plt.show()"
   ]
  },
  {
   "cell_type": "code",
   "execution_count": 95,
   "metadata": {},
   "outputs": [
    {
     "data": {
      "text/plain": [
       "0.1999999999990898"
      ]
     },
     "execution_count": 95,
     "metadata": {},
     "output_type": "execute_result"
    }
   ],
   "source": [
    "numerical_diff(function_1, 5)"
   ]
  },
  {
   "cell_type": "code",
   "execution_count": 96,
   "metadata": {},
   "outputs": [
    {
     "data": {
      "text/plain": [
       "0.2999999999986347"
      ]
     },
     "execution_count": 96,
     "metadata": {},
     "output_type": "execute_result"
    }
   ],
   "source": [
    "numerical_diff(function_1, 10)"
   ]
  },
  {
   "cell_type": "markdown",
   "metadata": {},
   "source": [
    "# 偏导数"
   ]
  },
  {
   "cell_type": "code",
   "execution_count": 97,
   "metadata": {},
   "outputs": [],
   "source": [
    "def function_2(x):\n",
    "    return x[0]**2 + x[1] ** 2\n",
    "   #return np.sum(x**2)"
   ]
  },
  {
   "cell_type": "code",
   "execution_count": 98,
   "metadata": {},
   "outputs": [
    {
     "data": {
      "image/png": "[encoded data removed]",
      "text/plain": [
       "<Figure size 432x288 with 1 Axes>"
      ]
     },
     "metadata": {
      "needs_background": "light"
     },
     "output_type": "display_data"
    }
   ],
   "source": [
    "import matplotlib as mpl\n",
    "from mpl_toolkits.mplot3d import Axes3D\n",
    "import numpy as np\n",
    "import matplotlib.pyplot as plt\n",
    "fig = plt.figure()\n",
    "ax = fig.gca(projection='3d')\n",
    "\n",
    "x = np.arange(-3, 3, 0.1)\n",
    "y = np.arange(-3, 3, 0.1)\n",
    "X,Y = np.meshgrid(x,y)  \n",
    "Z = X**2+Y**2\n",
    "ax.plot_surface(X, Y, Z, alpha=0.3, cmap= plt.cm.winter)\n",
    "ax.set_xlabel(\"X\")\n",
    "ax.set_xlim(-3,3)\n",
    "ax.set_ylabel(\"Y\")\n",
    "ax.set_ylim(-3,3)\n",
    "ax.set_zlabel(\"Z\")\n",
    "plt.title(\"Z = X^2 + Y^2\")\n",
    "plt.show()"
   ]
  },
  {
   "cell_type": "code",
   "execution_count": 99,
   "metadata": {},
   "outputs": [
    {
     "data": {
      "text/latex": [
       "$求 x_0 = 3，x_1 = 4时, 关于X_0的偏导 \\frac{\\partial f}{\\partial x_0}$"
      ],
      "text/plain": [
       "<IPython.core.display.Latex object>"
      ]
     },
     "execution_count": 99,
     "metadata": {},
     "output_type": "execute_result"
    }
   ],
   "source": [
    "Latex(r\"$求 x_0 = 3，x_1 = 4时, 关于X_0的偏导 \\frac{\\partial f}{\\partial x_0}$\")"
   ]
  },
  {
   "cell_type": "code",
   "execution_count": 100,
   "metadata": {},
   "outputs": [],
   "source": [
    "def function_tmp1(x0):\n",
    "    return x0*x0 + 4.0**2.0"
   ]
  },
  {
   "cell_type": "code",
   "execution_count": 101,
   "metadata": {},
   "outputs": [
    {
     "data": {
      "text/plain": [
       "6.00000000000378"
      ]
     },
     "execution_count": 101,
     "metadata": {},
     "output_type": "execute_result"
    }
   ],
   "source": [
    "numerical_diff(function_tmp1, 3.0)"
   ]
  },
  {
   "cell_type": "code",
   "execution_count": 102,
   "metadata": {},
   "outputs": [],
   "source": [
    "def numerical_gradient(f, x):\n",
    "    h = 1e-4 # 0.0001\n",
    "    grad = np.zeros_like(x)\n",
    "    for idx in range(x.size):\n",
    "        tmp_val = x[idx]\n",
    "        x[idx] = tmp_val + h\n",
    "        fxh1 = f(x)\n",
    "        \n",
    "        x[idx] = tmp_val - h\n",
    "        fxh2 = f(x)\n",
    "        \n",
    "        grad[idx] = (fxh1 - fxh2) / (2 * h)\n",
    "        x[idx] = tmp_val\n",
    "    print(\"grad:\",grad)\n",
    "    return grad"
   ]
  },
  {
   "cell_type": "code",
   "execution_count": 103,
   "metadata": {},
   "outputs": [
    {
     "name": "stdout",
     "output_type": "stream",
     "text": [
      "grad: [6. 8.]\n"
     ]
    },
    {
     "data": {
      "text/plain": [
       "array([6., 8.])"
      ]
     },
     "execution_count": 103,
     "metadata": {},
     "output_type": "execute_result"
    }
   ],
   "source": [
    "numerical_gradient(function_2, np.array([3.0,4.0]))"
   ]
  },
  {
   "cell_type": "code",
   "execution_count": 104,
   "metadata": {},
   "outputs": [
    {
     "name": "stdout",
     "output_type": "stream",
     "text": [
      "grad: [0. 4.]\n"
     ]
    },
    {
     "data": {
      "text/plain": [
       "array([0., 4.])"
      ]
     },
     "execution_count": 104,
     "metadata": {},
     "output_type": "execute_result"
    }
   ],
   "source": [
    "numerical_gradient(function_2, np.array([0.0,2.0]))"
   ]
  },
  {
   "cell_type": "code",
   "execution_count": 105,
   "metadata": {},
   "outputs": [
    {
     "name": "stdout",
     "output_type": "stream",
     "text": [
      "grad: [6. 0.]\n"
     ]
    },
    {
     "data": {
      "text/plain": [
       "array([6., 0.])"
      ]
     },
     "execution_count": 105,
     "metadata": {},
     "output_type": "execute_result"
    }
   ],
   "source": [
    "numerical_gradient(function_2, np.array([3.0,0.0]))"
   ]
  },
  {
   "cell_type": "markdown",
   "metadata": {},
   "source": [
    "## 梯度下降"
   ]
  },
  {
   "cell_type": "code",
   "execution_count": 106,
   "metadata": {},
   "outputs": [],
   "source": [
    "def gradient_descent(f, init_x, lr = 0.01, step_num=100):\n",
    "    x = init_x\n",
    "    for i in range(step_num):\n",
    "        grad = numerical_gradient(f, x)\n",
    "        x -= lr * grad\n",
    "    return x"
   ]
  },
  {
   "cell_type": "code",
   "execution_count": 107,
   "metadata": {},
   "outputs": [],
   "source": [
    "def function_2(x):\n",
    "    return x[0] ** 2 + x[1] ** 2"
   ]
  },
  {
   "cell_type": "code",
   "execution_count": 108,
   "metadata": {},
   "outputs": [
    {
     "name": "stdout",
     "output_type": "stream",
     "text": [
      "grad: [-6.  8.]\n",
      "grad: [-4.8  6.4]\n",
      "grad: [-3.84  5.12]\n",
      "grad: [-3.072  4.096]\n",
      "grad: [-2.4576  3.2768]\n",
      "grad: [-1.96608  2.62144]\n",
      "grad: [-1.572864  2.097152]\n",
      "grad: [-1.2582912  1.6777216]\n",
      "grad: [-1.00663296  1.34217728]\n",
      "grad: [-0.80530637  1.07374182]\n",
      "grad: [-0.64424509  0.85899346]\n",
      "grad: [-0.51539608  0.68719477]\n",
      "grad: [-0.41231686  0.54975581]\n",
      "grad: [-0.32985349  0.43980465]\n",
      "grad: [-0.26388279  0.35184372]\n",
      "grad: [-0.21110623  0.28147498]\n",
      "grad: [-0.16888499  0.22517998]\n",
      "grad: [-0.13510799  0.18014399]\n",
      "grad: [-0.10808639  0.14411519]\n",
      "grad: [-0.08646911  0.11529215]\n",
      "grad: [-0.06917529  0.09223372]\n",
      "grad: [-0.05534023  0.07378698]\n",
      "grad: [-0.04427219  0.05902958]\n",
      "grad: [-0.03541775  0.04722366]\n",
      "grad: [-0.0283342   0.03777893]\n",
      "grad: [-0.02266736  0.03022315]\n",
      "grad: [-0.01813389  0.02417852]\n",
      "grad: [-0.01450711  0.01934281]\n",
      "grad: [-0.01160569  0.01547425]\n",
      "grad: [-0.00928455  0.0123794 ]\n",
      "grad: [-0.00742764  0.00990352]\n",
      "grad: [-0.00594211  0.00792282]\n",
      "grad: [-0.00475369  0.00633825]\n",
      "grad: [-0.00380295  0.0050706 ]\n",
      "grad: [-0.00304236  0.00405648]\n",
      "grad: [-0.00243389  0.00324519]\n",
      "grad: [-0.00194711  0.00259615]\n",
      "grad: [-0.00155769  0.00207692]\n",
      "grad: [-0.00124615  0.00166153]\n",
      "grad: [-0.00099692  0.00132923]\n",
      "grad: [-0.00079754  0.00106338]\n",
      "grad: [-0.00063803  0.00085071]\n",
      "grad: [-0.00051042  0.00068056]\n",
      "grad: [-0.00040834  0.00054445]\n",
      "grad: [-0.00032667  0.00043556]\n",
      "grad: [-0.00026134  0.00034845]\n",
      "grad: [-0.00020907  0.00027876]\n",
      "grad: [-0.00016726  0.00022301]\n",
      "grad: [-0.0001338   0.00017841]\n",
      "grad: [-0.00010704  0.00014272]\n",
      "grad: [-8.56348616e-05  1.14179815e-04]\n",
      "grad: [-6.85078892e-05  9.13438523e-05]\n",
      "grad: [-5.48063114e-05  7.30750819e-05]\n",
      "grad: [-4.38450491e-05  5.84600655e-05]\n",
      "grad: [-3.50760393e-05  4.67680524e-05]\n",
      "grad: [-2.80608314e-05  3.74144419e-05]\n",
      "grad: [-2.24486651e-05  2.99315535e-05]\n",
      "grad: [-1.79589321e-05  2.39452428e-05]\n",
      "grad: [-1.43671457e-05  1.91561943e-05]\n",
      "grad: [-1.14937166e-05  1.53249554e-05]\n",
      "grad: [-9.19497325e-06  1.22599643e-05]\n",
      "grad: [-7.35597860e-06  9.80797146e-06]\n",
      "grad: [-5.88478288e-06  7.84637717e-06]\n",
      "grad: [-4.70782630e-06  6.27710174e-06]\n",
      "grad: [-3.76626104e-06  5.02168139e-06]\n",
      "grad: [-3.01300883e-06  4.01734511e-06]\n",
      "grad: [-2.41040707e-06  3.21387609e-06]\n",
      "grad: [-1.92832565e-06  2.57110087e-06]\n",
      "grad: [-1.54266052e-06  2.05688070e-06]\n",
      "grad: [-1.23412842e-06  1.64550456e-06]\n",
      "grad: [-9.87302734e-07  1.31640365e-06]\n",
      "grad: [-7.89842188e-07  1.05312292e-06]\n",
      "grad: [-6.31873750e-07  8.42498333e-07]\n",
      "grad: [-5.05499000e-07  6.73998667e-07]\n",
      "grad: [-4.04399200e-07  5.39198933e-07]\n",
      "grad: [-3.23519360e-07  4.31359147e-07]\n",
      "grad: [-2.58815488e-07  3.45087317e-07]\n",
      "grad: [-2.07052390e-07  2.76069854e-07]\n",
      "grad: [-1.65641912e-07  2.20855883e-07]\n",
      "grad: [-1.32513530e-07  1.76684706e-07]\n",
      "grad: [-1.06010824e-07  1.41347765e-07]\n",
      "grad: [-8.48086591e-08  1.13078212e-07]\n",
      "grad: [-6.78469273e-08  9.04625697e-08]\n",
      "grad: [-5.42775418e-08  7.23700558e-08]\n",
      "grad: [-4.34220335e-08  5.78960446e-08]\n",
      "grad: [-3.47376268e-08  4.63168357e-08]\n",
      "grad: [-2.77901014e-08  3.70534686e-08]\n",
      "grad: [-2.22320811e-08  2.96427748e-08]\n",
      "grad: [-1.77856649e-08  2.37142199e-08]\n",
      "grad: [-1.42285319e-08  1.89713759e-08]\n",
      "grad: [-1.13828255e-08  1.51771007e-08]\n",
      "grad: [-9.10626043e-09  1.21416806e-08]\n",
      "grad: [-7.28500835e-09  9.71334446e-09]\n",
      "grad: [-5.82800668e-09  7.77067557e-09]\n",
      "grad: [-4.66240534e-09  6.21654046e-09]\n",
      "grad: [-3.72992427e-09  4.97323236e-09]\n",
      "grad: [-2.98393942e-09  3.97858589e-09]\n",
      "grad: [-2.38715153e-09  3.18286871e-09]\n",
      "grad: [-1.90972123e-09  2.54629497e-09]\n",
      "grad: [-1.52777698e-09  2.03703598e-09]\n"
     ]
    },
    {
     "data": {
      "text/plain": [
       "array([-6.11110793e-10,  8.14814391e-10])"
      ]
     },
     "execution_count": 108,
     "metadata": {},
     "output_type": "execute_result"
    }
   ],
   "source": [
    "init_x = np.array([-3.0, 4.0])\n",
    "gradient_descent(function_2, init_x = init_x, lr=0.1, step_num=100)"
   ]
  },
  {
   "cell_type": "markdown",
   "metadata": {},
   "source": [
    "# 神经网络的梯度"
   ]
  },
  {
   "cell_type": "code",
   "execution_count": 109,
   "metadata": {},
   "outputs": [],
   "source": [
    "import sys,os\n",
    "sys.path.append(os.pardir)\n",
    "import numpy as np\n",
    "from common.functions import softmax, cross_entropy_error"
   ]
  },
  {
   "cell_type": "code",
   "execution_count": 116,
   "metadata": {},
   "outputs": [],
   "source": [
    "class simpleNet:\n",
    "    def __init__(self):\n",
    "        self.W = np.random.randn(2,3)\n",
    "\n",
    "    def predict(self,x):\n",
    "        return np.dot(x, self.W)\n",
    "    \n",
    "    def loss(self, x, t):\n",
    "        z = self.predict(x)\n",
    "        y = softmax(z)\n",
    "        loss = cross_entropy_error(y, t)\n",
    "        return loss"
   ]
  },
  {
   "cell_type": "code",
   "execution_count": 117,
   "metadata": {},
   "outputs": [
    {
     "name": "stdout",
     "output_type": "stream",
     "text": [
      "[[-0.06474464  0.14098463 -0.06748269]\n",
      " [ 1.05991817  0.49410072 -0.21667311]]\n"
     ]
    }
   ],
   "source": [
    "net = simpleNet()\n",
    "print(net.W)"
   ]
  },
  {
   "cell_type": "code",
   "execution_count": 118,
   "metadata": {},
   "outputs": [
    {
     "name": "stdout",
     "output_type": "stream",
     "text": [
      "[ 0.91507957  0.52928143 -0.23549541]\n"
     ]
    }
   ],
   "source": [
    "x = np.array([0.6,0.9])\n",
    "t = np.array([0, 0, 1])\n",
    "p = net.predict(x)\n",
    "print(p)"
   ]
  },
  {
   "cell_type": "code",
   "execution_count": 119,
   "metadata": {},
   "outputs": [
    {
     "data": {
      "text/plain": [
       "0"
      ]
     },
     "execution_count": 119,
     "metadata": {},
     "output_type": "execute_result"
    }
   ],
   "source": [
    "np.argmax(p)"
   ]
  },
  {
   "cell_type": "code",
   "execution_count": 120,
   "metadata": {},
   "outputs": [],
   "source": [
    "def f(W):\n",
    "    return net.loss(x, t)"
   ]
  },
  {
   "cell_type": "code",
   "execution_count": 121,
   "metadata": {},
   "outputs": [
    {
     "name": "stdout",
     "output_type": "stream",
     "text": [
      "[[-0.06474464  0.14098463 -0.06748269]\n",
      " [ 1.05991817  0.49410072 -0.21667311]]\n",
      "1.8419011345382745\n"
     ]
    }
   ],
   "source": [
    "print(net.W)\n",
    "print(f(net.W))"
   ]
  },
  {
   "cell_type": "code",
   "execution_count": null,
   "metadata": {},
   "outputs": [],
   "source": []
  }
 ],
 "metadata": {
  "kernelspec": {
   "display_name": "Python 3",
   "language": "python",
   "name": "python3"
  },
  "language_info": {
   "codemirror_mode": {
    "name": "ipython",
    "version": 3
   },
   "file_extension": ".py",
   "mimetype": "text/x-python",
   "name": "python",
   "nbconvert_exporter": "python",
   "pygments_lexer": "ipython3",
   "version": "3.7.2"
  },
  "toc": {
   "base_numbering": 1,
   "nav_menu": {},
   "number_sections": false,
   "sideBar": true,
   "skip_h1_title": false,
   "title_cell": "Table of Contents",
   "title_sidebar": "Contents",
   "toc_cell": false,
   "toc_position": {},
   "toc_section_display": true,
   "toc_window_display": true
  }
 },
 "nbformat": 4,
 "nbformat_minor": 2
}
